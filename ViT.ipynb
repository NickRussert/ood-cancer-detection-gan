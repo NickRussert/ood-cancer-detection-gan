{
  "nbformat": 4,
  "nbformat_minor": 0,
  "metadata": {
    "colab": {
      "provenance": [],
      "gpuType": "T4"
    },
    "kernelspec": {
      "name": "python3",
      "display_name": "Python 3"
    },
    "language_info": {
      "name": "python"
    },
    "accelerator": "GPU"
  },
  "cells": [
    {
      "cell_type": "code",
      "source": [
        "from google.colab import files  # upload our file, no need to download it anymore\n",
        "uploaded = files.upload()"
      ],
      "metadata": {
        "colab": {
          "base_uri": "https://localhost:8080/",
          "height": 73
        },
        "id": "lZ1-zUVc6tJU",
        "outputId": "a146fc7e-f311-43b4-8581-b46b1677063f"
      },
      "execution_count": null,
      "outputs": [
        {
          "output_type": "display_data",
          "data": {
            "text/plain": [
              "<IPython.core.display.HTML object>"
            ],
            "text/html": [
              "\n",
              "     <input type=\"file\" id=\"files-dd6a47cd-bc40-4b32-9d22-d5f31d47b4c3\" name=\"files[]\" multiple disabled\n",
              "        style=\"border:none\" />\n",
              "     <output id=\"result-dd6a47cd-bc40-4b32-9d22-d5f31d47b4c3\">\n",
              "      Upload widget is only available when the cell has been executed in the\n",
              "      current browser session. Please rerun this cell to enable.\n",
              "      </output>\n",
              "      <script>// Copyright 2017 Google LLC\n",
              "//\n",
              "// Licensed under the Apache License, Version 2.0 (the \"License\");\n",
              "// you may not use this file except in compliance with the License.\n",
              "// You may obtain a copy of the License at\n",
              "//\n",
              "//      http://www.apache.org/licenses/LICENSE-2.0\n",
              "//\n",
              "// Unless required by applicable law or agreed to in writing, software\n",
              "// distributed under the License is distributed on an \"AS IS\" BASIS,\n",
              "// WITHOUT WARRANTIES OR CONDITIONS OF ANY KIND, either express or implied.\n",
              "// See the License for the specific language governing permissions and\n",
              "// limitations under the License.\n",
              "\n",
              "/**\n",
              " * @fileoverview Helpers for google.colab Python module.\n",
              " */\n",
              "(function(scope) {\n",
              "function span(text, styleAttributes = {}) {\n",
              "  const element = document.createElement('span');\n",
              "  element.textContent = text;\n",
              "  for (const key of Object.keys(styleAttributes)) {\n",
              "    element.style[key] = styleAttributes[key];\n",
              "  }\n",
              "  return element;\n",
              "}\n",
              "\n",
              "// Max number of bytes which will be uploaded at a time.\n",
              "const MAX_PAYLOAD_SIZE = 100 * 1024;\n",
              "\n",
              "function _uploadFiles(inputId, outputId) {\n",
              "  const steps = uploadFilesStep(inputId, outputId);\n",
              "  const outputElement = document.getElementById(outputId);\n",
              "  // Cache steps on the outputElement to make it available for the next call\n",
              "  // to uploadFilesContinue from Python.\n",
              "  outputElement.steps = steps;\n",
              "\n",
              "  return _uploadFilesContinue(outputId);\n",
              "}\n",
              "\n",
              "// This is roughly an async generator (not supported in the browser yet),\n",
              "// where there are multiple asynchronous steps and the Python side is going\n",
              "// to poll for completion of each step.\n",
              "// This uses a Promise to block the python side on completion of each step,\n",
              "// then passes the result of the previous step as the input to the next step.\n",
              "function _uploadFilesContinue(outputId) {\n",
              "  const outputElement = document.getElementById(outputId);\n",
              "  const steps = outputElement.steps;\n",
              "\n",
              "  const next = steps.next(outputElement.lastPromiseValue);\n",
              "  return Promise.resolve(next.value.promise).then((value) => {\n",
              "    // Cache the last promise value to make it available to the next\n",
              "    // step of the generator.\n",
              "    outputElement.lastPromiseValue = value;\n",
              "    return next.value.response;\n",
              "  });\n",
              "}\n",
              "\n",
              "/**\n",
              " * Generator function which is called between each async step of the upload\n",
              " * process.\n",
              " * @param {string} inputId Element ID of the input file picker element.\n",
              " * @param {string} outputId Element ID of the output display.\n",
              " * @return {!Iterable<!Object>} Iterable of next steps.\n",
              " */\n",
              "function* uploadFilesStep(inputId, outputId) {\n",
              "  const inputElement = document.getElementById(inputId);\n",
              "  inputElement.disabled = false;\n",
              "\n",
              "  const outputElement = document.getElementById(outputId);\n",
              "  outputElement.innerHTML = '';\n",
              "\n",
              "  const pickedPromise = new Promise((resolve) => {\n",
              "    inputElement.addEventListener('change', (e) => {\n",
              "      resolve(e.target.files);\n",
              "    });\n",
              "  });\n",
              "\n",
              "  const cancel = document.createElement('button');\n",
              "  inputElement.parentElement.appendChild(cancel);\n",
              "  cancel.textContent = 'Cancel upload';\n",
              "  const cancelPromise = new Promise((resolve) => {\n",
              "    cancel.onclick = () => {\n",
              "      resolve(null);\n",
              "    };\n",
              "  });\n",
              "\n",
              "  // Wait for the user to pick the files.\n",
              "  const files = yield {\n",
              "    promise: Promise.race([pickedPromise, cancelPromise]),\n",
              "    response: {\n",
              "      action: 'starting',\n",
              "    }\n",
              "  };\n",
              "\n",
              "  cancel.remove();\n",
              "\n",
              "  // Disable the input element since further picks are not allowed.\n",
              "  inputElement.disabled = true;\n",
              "\n",
              "  if (!files) {\n",
              "    return {\n",
              "      response: {\n",
              "        action: 'complete',\n",
              "      }\n",
              "    };\n",
              "  }\n",
              "\n",
              "  for (const file of files) {\n",
              "    const li = document.createElement('li');\n",
              "    li.append(span(file.name, {fontWeight: 'bold'}));\n",
              "    li.append(span(\n",
              "        `(${file.type || 'n/a'}) - ${file.size} bytes, ` +\n",
              "        `last modified: ${\n",
              "            file.lastModifiedDate ? file.lastModifiedDate.toLocaleDateString() :\n",
              "                                    'n/a'} - `));\n",
              "    const percent = span('0% done');\n",
              "    li.appendChild(percent);\n",
              "\n",
              "    outputElement.appendChild(li);\n",
              "\n",
              "    const fileDataPromise = new Promise((resolve) => {\n",
              "      const reader = new FileReader();\n",
              "      reader.onload = (e) => {\n",
              "        resolve(e.target.result);\n",
              "      };\n",
              "      reader.readAsArrayBuffer(file);\n",
              "    });\n",
              "    // Wait for the data to be ready.\n",
              "    let fileData = yield {\n",
              "      promise: fileDataPromise,\n",
              "      response: {\n",
              "        action: 'continue',\n",
              "      }\n",
              "    };\n",
              "\n",
              "    // Use a chunked sending to avoid message size limits. See b/62115660.\n",
              "    let position = 0;\n",
              "    do {\n",
              "      const length = Math.min(fileData.byteLength - position, MAX_PAYLOAD_SIZE);\n",
              "      const chunk = new Uint8Array(fileData, position, length);\n",
              "      position += length;\n",
              "\n",
              "      const base64 = btoa(String.fromCharCode.apply(null, chunk));\n",
              "      yield {\n",
              "        response: {\n",
              "          action: 'append',\n",
              "          file: file.name,\n",
              "          data: base64,\n",
              "        },\n",
              "      };\n",
              "\n",
              "      let percentDone = fileData.byteLength === 0 ?\n",
              "          100 :\n",
              "          Math.round((position / fileData.byteLength) * 100);\n",
              "      percent.textContent = `${percentDone}% done`;\n",
              "\n",
              "    } while (position < fileData.byteLength);\n",
              "  }\n",
              "\n",
              "  // All done.\n",
              "  yield {\n",
              "    response: {\n",
              "      action: 'complete',\n",
              "    }\n",
              "  };\n",
              "}\n",
              "\n",
              "scope.google = scope.google || {};\n",
              "scope.google.colab = scope.google.colab || {};\n",
              "scope.google.colab._files = {\n",
              "  _uploadFiles,\n",
              "  _uploadFilesContinue,\n",
              "};\n",
              "})(self);\n",
              "</script> "
            ]
          },
          "metadata": {}
        },
        {
          "output_type": "stream",
          "name": "stdout",
          "text": [
            "Saving data_loading.py to data_loading (1).py\n"
          ]
        }
      ]
    },
    {
      "cell_type": "code",
      "source": [
        "from data_loading import get_data_BIG_WGAN  # get all our data as usual\n",
        "(poland_images, poland_labels), (china_images, china_labels), (egypt_images, egypt_labels), (egypt_mixed_images_1180, egypt_mixed_labels_1180), (egypt_mixed_images_2360, egypt_mixed_labels_2360) = get_data_BIG_WGAN()"
      ],
      "metadata": {
        "colab": {
          "base_uri": "https://localhost:8080/"
        },
        "id": "AwUwH89h6-Z5",
        "outputId": "59791ee3-b9c5-42de-db5c-ec9303d21d9b",
        "collapsed": true
      },
      "execution_count": null,
      "outputs": [
        {
          "output_type": "stream",
          "name": "stdout",
          "text": [
            "downloading a file with egypt 1180 samples (Main + BIG-WGAN) and poland, china\n"
          ]
        },
        {
          "output_type": "stream",
          "name": "stderr",
          "text": [
            "Downloading...\n",
            "From (original): https://drive.google.com/uc?id=1PY29AhKzMo_msc0-8nc0oXnyWQHpbjWO\n",
            "From (redirected): https://drive.google.com/uc?id=1PY29AhKzMo_msc0-8nc0oXnyWQHpbjWO&confirm=t&uuid=29d2639e-def3-47b7-a306-ff406c9743cf\n",
            "To: /content/data_zipped\n",
            "100%|██████████| 47.6M/47.6M [00:01<00:00, 35.1MB/s]\n"
          ]
        },
        {
          "output_type": "stream",
          "name": "stdout",
          "text": [
            "Poland: images (256, 128, 128), labels (256,)\n",
            "China: images (635, 128, 128), labels (635,)\n",
            "Egypt: images (780, 128, 128), labels (780,)\n",
            "unbalanced, unshuffled,\n",
            "0 for malignant, 1 for benign,\n",
            "Poland label distribution:\n",
            "  Label 0: 102\n",
            "  Label 1: 154\n",
            "\n",
            "China label distribution:\n",
            "  Label 0: 435\n",
            "  Label 1: 200\n",
            "\n",
            "Egypt label distribution:\n",
            "  Label 0: 210\n",
            "  Label 1: 570\n",
            "\n",
            "Egypt mixed with GAN:\n",
            "  Label 0: 410\n",
            "  Label 1: 770\n",
            "\n",
            "Egypt mixed with GAN and FLIPPED:\n",
            "  Label 0: 820\n",
            "  Label 1: 1540\n",
            "returns poland images(TEST THIS), china images, egypt images, egypt mixed images 1180(TRAIN THIS), egypt mixed images 2360(TRAIN THIS)\n"
          ]
        }
      ]
    },
    {
      "cell_type": "code",
      "execution_count": null,
      "metadata": {
        "id": "EkzBnhU7uTzb",
        "colab": {
          "base_uri": "https://localhost:8080/"
        },
        "outputId": "d418362f-a60c-4198-ce87-7001b712c5c7",
        "collapsed": true
      },
      "outputs": [
        {
          "output_type": "stream",
          "name": "stdout",
          "text": [
            "Requirement already satisfied: timm in /usr/local/lib/python3.11/dist-packages (1.0.15)\n",
            "Requirement already satisfied: torchvision in /usr/local/lib/python3.11/dist-packages (0.21.0+cu124)\n",
            "Requirement already satisfied: torch in /usr/local/lib/python3.11/dist-packages (from timm) (2.6.0+cu124)\n",
            "Requirement already satisfied: pyyaml in /usr/local/lib/python3.11/dist-packages (from timm) (6.0.2)\n",
            "Requirement already satisfied: huggingface_hub in /usr/local/lib/python3.11/dist-packages (from timm) (0.30.2)\n",
            "Requirement already satisfied: safetensors in /usr/local/lib/python3.11/dist-packages (from timm) (0.5.3)\n",
            "Requirement already satisfied: numpy in /usr/local/lib/python3.11/dist-packages (from torchvision) (2.0.2)\n",
            "Requirement already satisfied: pillow!=8.3.*,>=5.3.0 in /usr/local/lib/python3.11/dist-packages (from torchvision) (11.2.1)\n",
            "Requirement already satisfied: filelock in /usr/local/lib/python3.11/dist-packages (from torch->timm) (3.18.0)\n",
            "Requirement already satisfied: typing-extensions>=4.10.0 in /usr/local/lib/python3.11/dist-packages (from torch->timm) (4.13.2)\n",
            "Requirement already satisfied: networkx in /usr/local/lib/python3.11/dist-packages (from torch->timm) (3.4.2)\n",
            "Requirement already satisfied: jinja2 in /usr/local/lib/python3.11/dist-packages (from torch->timm) (3.1.6)\n",
            "Requirement already satisfied: fsspec in /usr/local/lib/python3.11/dist-packages (from torch->timm) (2025.3.2)\n",
            "Requirement already satisfied: nvidia-cuda-nvrtc-cu12==12.4.127 in /usr/local/lib/python3.11/dist-packages (from torch->timm) (12.4.127)\n",
            "Requirement already satisfied: nvidia-cuda-runtime-cu12==12.4.127 in /usr/local/lib/python3.11/dist-packages (from torch->timm) (12.4.127)\n",
            "Requirement already satisfied: nvidia-cuda-cupti-cu12==12.4.127 in /usr/local/lib/python3.11/dist-packages (from torch->timm) (12.4.127)\n",
            "Requirement already satisfied: nvidia-cudnn-cu12==9.1.0.70 in /usr/local/lib/python3.11/dist-packages (from torch->timm) (9.1.0.70)\n",
            "Requirement already satisfied: nvidia-cublas-cu12==12.4.5.8 in /usr/local/lib/python3.11/dist-packages (from torch->timm) (12.4.5.8)\n",
            "Requirement already satisfied: nvidia-cufft-cu12==11.2.1.3 in /usr/local/lib/python3.11/dist-packages (from torch->timm) (11.2.1.3)\n",
            "Requirement already satisfied: nvidia-curand-cu12==10.3.5.147 in /usr/local/lib/python3.11/dist-packages (from torch->timm) (10.3.5.147)\n",
            "Requirement already satisfied: nvidia-cusolver-cu12==11.6.1.9 in /usr/local/lib/python3.11/dist-packages (from torch->timm) (11.6.1.9)\n",
            "Requirement already satisfied: nvidia-cusparse-cu12==12.3.1.170 in /usr/local/lib/python3.11/dist-packages (from torch->timm) (12.3.1.170)\n",
            "Requirement already satisfied: nvidia-cusparselt-cu12==0.6.2 in /usr/local/lib/python3.11/dist-packages (from torch->timm) (0.6.2)\n",
            "Requirement already satisfied: nvidia-nccl-cu12==2.21.5 in /usr/local/lib/python3.11/dist-packages (from torch->timm) (2.21.5)\n",
            "Requirement already satisfied: nvidia-nvtx-cu12==12.4.127 in /usr/local/lib/python3.11/dist-packages (from torch->timm) (12.4.127)\n",
            "Requirement already satisfied: nvidia-nvjitlink-cu12==12.4.127 in /usr/local/lib/python3.11/dist-packages (from torch->timm) (12.4.127)\n",
            "Requirement already satisfied: triton==3.2.0 in /usr/local/lib/python3.11/dist-packages (from torch->timm) (3.2.0)\n",
            "Requirement already satisfied: sympy==1.13.1 in /usr/local/lib/python3.11/dist-packages (from torch->timm) (1.13.1)\n",
            "Requirement already satisfied: mpmath<1.4,>=1.1.0 in /usr/local/lib/python3.11/dist-packages (from sympy==1.13.1->torch->timm) (1.3.0)\n",
            "Requirement already satisfied: packaging>=20.9 in /usr/local/lib/python3.11/dist-packages (from huggingface_hub->timm) (24.2)\n",
            "Requirement already satisfied: requests in /usr/local/lib/python3.11/dist-packages (from huggingface_hub->timm) (2.32.3)\n",
            "Requirement already satisfied: tqdm>=4.42.1 in /usr/local/lib/python3.11/dist-packages (from huggingface_hub->timm) (4.67.1)\n",
            "Requirement already satisfied: MarkupSafe>=2.0 in /usr/local/lib/python3.11/dist-packages (from jinja2->torch->timm) (3.0.2)\n",
            "Requirement already satisfied: charset-normalizer<4,>=2 in /usr/local/lib/python3.11/dist-packages (from requests->huggingface_hub->timm) (3.4.1)\n",
            "Requirement already satisfied: idna<4,>=2.5 in /usr/local/lib/python3.11/dist-packages (from requests->huggingface_hub->timm) (3.10)\n",
            "Requirement already satisfied: urllib3<3,>=1.21.1 in /usr/local/lib/python3.11/dist-packages (from requests->huggingface_hub->timm) (2.4.0)\n",
            "Requirement already satisfied: certifi>=2017.4.17 in /usr/local/lib/python3.11/dist-packages (from requests->huggingface_hub->timm) (2025.4.26)\n"
          ]
        }
      ],
      "source": [
        "# all the fun libraries\n",
        "import numpy as np\n",
        "from google.colab import files\n",
        "import matplotlib.pyplot as plt\n",
        "from transformers import ViTFeatureExtractor, ViTForImageClassification\n",
        "from PIL import Image\n",
        "from torch.utils.data import Dataset\n",
        "import os\n",
        "!pip install timm torchvision"
      ]
    },
    {
      "cell_type": "code",
      "source": [
        "import torch.nn as nn\n",
        "from torchvision.models.vision_transformer import VisionTransformer\n",
        "\n",
        "# had to look up how to use this\n",
        "class ViTBinaryClassifier(nn.Module):\n",
        "    def __init__(self):\n",
        "        super().__init__()\n",
        "        self.vit = VisionTransformer(\n",
        "            image_size=128,\n",
        "            patch_size=16,  # 16x16 patches\n",
        "            num_layers=12,\n",
        "            num_heads=12, # 12 heads\n",
        "            hidden_dim=768,    # 768 = 12x64 , standard pick\n",
        "            mlp_dim=3072,\n",
        "            num_classes=1     # one class because of BCE ( 0 or 1 of the one class)\n",
        "        )\n",
        "        self.vit.conv_proj = nn.Conv2d(1, 768, kernel_size=16, stride=16)\n",
        "\n",
        "    def forward(self, x):\n",
        "        out = self.vit(x)\n",
        "        return out.squeeze(1)\n"
      ],
      "metadata": {
        "id": "31gBnKKI3hhS"
      },
      "execution_count": null,
      "outputs": []
    },
    {
      "cell_type": "code",
      "source": [
        "# get the data set that we train and test on\n",
        "egypt_x = np.load('/content/data_unzipped/Datasets/Egypt Hospital - Breast Ultrasound/Egypt Hospital 128x128/Egypt Hospital_US_Breast_Images.npy')\n",
        "egypt_y = np.load('/content/data_unzipped/Datasets/Egypt Hospital - Breast Ultrasound/Egypt Hospital 128x128/Egypt Hospital_US_Breast_Labels.npy')\n",
        "poland_x = np.load('/content/data_unzipped/Datasets/Polish Hospital - Breast Ultrasound 128x128/Poland_Medical_Centers_US_Breast_Images.npy')\n",
        "poland_y = np.load('/content/data_unzipped/Datasets/Polish Hospital - Breast Ultrasound 128x128/Poland_Medical_Centers_US_Breast_Labels.npy')"
      ],
      "metadata": {
        "id": "MFmr8nAEj6sE"
      },
      "execution_count": null,
      "outputs": []
    },
    {
      "cell_type": "code",
      "source": [
        "# lazy reassignment from the code in the second block\n",
        "x_train = egypt_mixed_images_2360\n",
        "y_train = egypt_mixed_labels_2360\n",
        "x_test = poland_x\n",
        "y_test = poland_y"
      ],
      "metadata": {
        "id": "XGxkieah8U1U"
      },
      "execution_count": null,
      "outputs": []
    },
    {
      "cell_type": "code",
      "source": [
        "from sklearn.model_selection import train_test_split\n",
        "\n",
        "x_train, x_test, y_train, y_test = train_test_split(egypt_x, egypt_y, test_size=0.2, random_state=42) # split 80/20\n",
        "\n",
        "\"\"\"\n",
        "train_dataset = GrayscaleImageDataset(x_train, y_train)\n",
        "test_dataset = GrayscaleImageDataset(x_test, y_test)\n",
        "train_loader = torch.utils.data.DataLoader(train_dataset, batch_size=32, shuffle=True)\n",
        "test_loader = torch.utils.data.DataLoader(test_dataset, batch_size=32)"
      ],
      "metadata": {
        "id": "UurdZGkr7las"
      },
      "execution_count": null,
      "outputs": []
    },
    {
      "cell_type": "code",
      "source": [
        "x_train.shape, x_test.shape, y_train.shape, y_test.shape  # looks good"
      ],
      "metadata": {
        "colab": {
          "base_uri": "https://localhost:8080/"
        },
        "id": "8J3_woq18Vpw",
        "outputId": "95d29922-6e07-4445-e6ef-8875ff69cc9a"
      },
      "execution_count": null,
      "outputs": [
        {
          "output_type": "execute_result",
          "data": {
            "text/plain": [
              "((2360, 128, 128), (256, 128, 128), (2360,), (256,))"
            ]
          },
          "metadata": {},
          "execution_count": 55
        }
      ]
    },
    {
      "cell_type": "code",
      "source": [
        "# check if cuda is ready, show device\n",
        "torch.cuda.is_available()\n",
        "print(torch.cuda.get_device_name())\n",
        "device = torch.device(\"cuda\" if torch.cuda.is_available() else \"cpu\")\n",
        "print(device)"
      ],
      "metadata": {
        "colab": {
          "base_uri": "https://localhost:8080/"
        },
        "id": "yI8LQiyZ9-kw",
        "outputId": "24ec84ed-ba50-401e-ddcc-40304df7a9a2"
      },
      "execution_count": null,
      "outputs": [
        {
          "output_type": "stream",
          "name": "stdout",
          "text": [
            "Tesla T4\n",
            "cuda\n"
          ]
        }
      ]
    },
    {
      "cell_type": "code",
      "source": [
        "import time\n",
        "model = ViTBinaryClassifier().to(device)  # classifier\n",
        "criterion = nn.BCEWithLogitsLoss()  # loss , this one is different from CrossEntropy, I think crossentropy needs 2 classes?\n",
        "optimizer = torch.optim.Adam(model.parameters(), lr=1e-4, weight_decay=1e-5) # optimizer\n",
        "\n",
        "begin = time.time()\n",
        "for epoch in range(20):\n",
        "    model.train() # train model\n",
        "    for images, labels in train_loader: # images and label tensored to GPU\n",
        "        images, labels = images.to(device), labels.to(device)\n",
        "\n",
        "        optimizer.zero_grad() # grad 0\n",
        "        outputs = model(images) # classify\n",
        "        loss = criterion(outputs, labels) # get loss(BCE)\n",
        "        loss.backward()\n",
        "        optimizer.step()  # step\n",
        "\n",
        "    print(f\"Epoch {epoch} Loss: {loss.item():.4f}\")\n",
        "\n",
        "end = time.time()\n",
        "print(f\"Training time: {end - begin} seconds\")"
      ],
      "metadata": {
        "colab": {
          "base_uri": "https://localhost:8080/"
        },
        "id": "EhKdzMj-95cB",
        "outputId": "b316da83-e595-423b-da1c-6a789111b3ad"
      },
      "execution_count": null,
      "outputs": [
        {
          "output_type": "stream",
          "name": "stdout",
          "text": [
            "Epoch 0 Loss: 0.6844\n",
            "Epoch 1 Loss: 0.6020\n",
            "Epoch 2 Loss: 0.6628\n",
            "Epoch 3 Loss: 0.5301\n",
            "Epoch 4 Loss: 0.4880\n",
            "Epoch 5 Loss: 0.6193\n",
            "Epoch 6 Loss: 0.4047\n",
            "Epoch 7 Loss: 0.3757\n",
            "Epoch 8 Loss: 0.7721\n",
            "Epoch 9 Loss: 0.2382\n",
            "Epoch 10 Loss: 0.2886\n",
            "Epoch 11 Loss: 0.3291\n",
            "Epoch 12 Loss: 0.5183\n",
            "Epoch 13 Loss: 0.2863\n",
            "Epoch 14 Loss: 0.1355\n",
            "Epoch 15 Loss: 0.1581\n",
            "Epoch 16 Loss: 0.2042\n",
            "Epoch 17 Loss: 0.3213\n",
            "Epoch 18 Loss: 0.3340\n",
            "Epoch 19 Loss: 0.2387\n",
            "Training time: 566.2656383514404 seconds\n"
          ]
        }
      ]
    },
    {
      "cell_type": "code",
      "source": [
        "from sklearn.metrics import accuracy_score\n",
        "\n",
        "model.eval()\n",
        "all_preds, all_labels = [], []\n",
        "with torch.no_grad():\n",
        "    for images, labels in test_loader:\n",
        "        images = images.to(device)\n",
        "        outputs = model(images)\n",
        "        preds = (torch.sigmoid(outputs) > 0.5).cpu().numpy()\n",
        "        all_preds.extend(preds)\n",
        "        all_labels.extend(labels.numpy())\n",
        "\n",
        "print(\"Test Accuracy:\", accuracy_score(all_labels, all_preds))\n"
      ],
      "metadata": {
        "colab": {
          "base_uri": "https://localhost:8080/"
        },
        "id": "tX4zdCtm_Eb_",
        "outputId": "75985bbd-caf8-4a34-e953-b092782a1b51"
      },
      "execution_count": null,
      "outputs": [
        {
          "output_type": "stream",
          "name": "stdout",
          "text": [
            "Test Accuracy: 0.6015625\n"
          ]
        }
      ]
    },
    {
      "cell_type": "markdown",
      "source": [
        "Big cross domain tests  \n",
        "(20 epoch):    \n",
        "train egypt test poland 60.5%  \n",
        "train egypt 1180 test poland 57.4%  \n",
        "train egypt 2360 test poland 60\n",
        "(50 epoch):  \n",
        "\n",
        "\n",
        "\n",
        "\n",
        "\n",
        "with 25 epochs and very small train/test (prof suggestion):  \n",
        "egypt 100 real, test on egypt  70%  \n",
        "egypt 100 real, test on poland 55%  \n",
        "egypt 100 real + 100 fake, test on poland  55%  \n",
        "egypt 100 real + 75 fake, test on poland 55%  \n",
        "egypt 100 real + 50 fake, test on poland  58%  \n",
        "egypt 100 real + 25 fake, test on poland 50%\n",
        "\n",
        "with 50 epochs: \\\n",
        "egypt train and egypt test 74.3%\\\n",
        "egypt train and poland test 61.7%\\\n",
        "poland train and poland test 67.3%\\\n",
        "poland train and egypt test 54%\\\n",
        "egypt_25WGAN train poland test 61.7%\\\n",
        "egypt_50WGAN train poland test 55.4% \\\n",
        "egypt_75WGAN train poland test 60.1% \\\n",
        "egypt_100WGAN train poland test 60.1% \\\n",
        "egypt_25CGAN train poland test 60.1%\\\n",
        "egypt_50CGAN train poland test 62.8%\\\n",
        "egypt_75CGAN train poland test 60.1%\\\n",
        "egypt_100CGAN train poland test 60.1%\\\n",
        "egypt_1080 train poland test 63.28%\\\n",
        "egypt_2360 train poland test 62.1%\\\n",
        "\n",
        "with 25 epochs:   \n",
        "egypt train poland test 61.7%   \n",
        "egypt_mixed_1180 train poland test\n",
        "add only small portions\n",
        "\n"
      ],
      "metadata": {
        "id": "InPlaag9BzLa"
      }
    }
  ]
}