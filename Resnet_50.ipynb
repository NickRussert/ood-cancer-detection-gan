{
  "nbformat": 4,
  "nbformat_minor": 0,
  "metadata": {
    "colab": {
      "provenance": [],
      "gpuType": "T4"
    },
    "kernelspec": {
      "name": "python3",
      "display_name": "Python 3"
    },
    "language_info": {
      "name": "python"
    },
    "accelerator": "GPU"
  },
  "cells": [
    {
      "cell_type": "markdown",
      "source": [
        "Note: we did not use China dataset for the project :("
      ],
      "metadata": {
        "id": "R3vImaI8EMme"
      }
    },
    {
      "cell_type": "code",
      "source": [
        "# get the data loader\n",
        "from google.colab import files\n",
        "uploaded = files.upload()"
      ],
      "metadata": {
        "colab": {
          "base_uri": "https://localhost:8080/",
          "height": 73
        },
        "id": "aJZU4qXOezcn",
        "outputId": "b7b7f04a-4246-446d-afb3-f4ab7388c180"
      },
      "execution_count": null,
      "outputs": [
        {
          "output_type": "display_data",
          "data": {
            "text/plain": [
              "<IPython.core.display.HTML object>"
            ],
            "text/html": [
              "\n",
              "     <input type=\"file\" id=\"files-103c5cd9-8c6b-4909-a1fa-222317c69913\" name=\"files[]\" multiple disabled\n",
              "        style=\"border:none\" />\n",
              "     <output id=\"result-103c5cd9-8c6b-4909-a1fa-222317c69913\">\n",
              "      Upload widget is only available when the cell has been executed in the\n",
              "      current browser session. Please rerun this cell to enable.\n",
              "      </output>\n",
              "      <script>// Copyright 2017 Google LLC\n",
              "//\n",
              "// Licensed under the Apache License, Version 2.0 (the \"License\");\n",
              "// you may not use this file except in compliance with the License.\n",
              "// You may obtain a copy of the License at\n",
              "//\n",
              "//      http://www.apache.org/licenses/LICENSE-2.0\n",
              "//\n",
              "// Unless required by applicable law or agreed to in writing, software\n",
              "// distributed under the License is distributed on an \"AS IS\" BASIS,\n",
              "// WITHOUT WARRANTIES OR CONDITIONS OF ANY KIND, either express or implied.\n",
              "// See the License for the specific language governing permissions and\n",
              "// limitations under the License.\n",
              "\n",
              "/**\n",
              " * @fileoverview Helpers for google.colab Python module.\n",
              " */\n",
              "(function(scope) {\n",
              "function span(text, styleAttributes = {}) {\n",
              "  const element = document.createElement('span');\n",
              "  element.textContent = text;\n",
              "  for (const key of Object.keys(styleAttributes)) {\n",
              "    element.style[key] = styleAttributes[key];\n",
              "  }\n",
              "  return element;\n",
              "}\n",
              "\n",
              "// Max number of bytes which will be uploaded at a time.\n",
              "const MAX_PAYLOAD_SIZE = 100 * 1024;\n",
              "\n",
              "function _uploadFiles(inputId, outputId) {\n",
              "  const steps = uploadFilesStep(inputId, outputId);\n",
              "  const outputElement = document.getElementById(outputId);\n",
              "  // Cache steps on the outputElement to make it available for the next call\n",
              "  // to uploadFilesContinue from Python.\n",
              "  outputElement.steps = steps;\n",
              "\n",
              "  return _uploadFilesContinue(outputId);\n",
              "}\n",
              "\n",
              "// This is roughly an async generator (not supported in the browser yet),\n",
              "// where there are multiple asynchronous steps and the Python side is going\n",
              "// to poll for completion of each step.\n",
              "// This uses a Promise to block the python side on completion of each step,\n",
              "// then passes the result of the previous step as the input to the next step.\n",
              "function _uploadFilesContinue(outputId) {\n",
              "  const outputElement = document.getElementById(outputId);\n",
              "  const steps = outputElement.steps;\n",
              "\n",
              "  const next = steps.next(outputElement.lastPromiseValue);\n",
              "  return Promise.resolve(next.value.promise).then((value) => {\n",
              "    // Cache the last promise value to make it available to the next\n",
              "    // step of the generator.\n",
              "    outputElement.lastPromiseValue = value;\n",
              "    return next.value.response;\n",
              "  });\n",
              "}\n",
              "\n",
              "/**\n",
              " * Generator function which is called between each async step of the upload\n",
              " * process.\n",
              " * @param {string} inputId Element ID of the input file picker element.\n",
              " * @param {string} outputId Element ID of the output display.\n",
              " * @return {!Iterable<!Object>} Iterable of next steps.\n",
              " */\n",
              "function* uploadFilesStep(inputId, outputId) {\n",
              "  const inputElement = document.getElementById(inputId);\n",
              "  inputElement.disabled = false;\n",
              "\n",
              "  const outputElement = document.getElementById(outputId);\n",
              "  outputElement.innerHTML = '';\n",
              "\n",
              "  const pickedPromise = new Promise((resolve) => {\n",
              "    inputElement.addEventListener('change', (e) => {\n",
              "      resolve(e.target.files);\n",
              "    });\n",
              "  });\n",
              "\n",
              "  const cancel = document.createElement('button');\n",
              "  inputElement.parentElement.appendChild(cancel);\n",
              "  cancel.textContent = 'Cancel upload';\n",
              "  const cancelPromise = new Promise((resolve) => {\n",
              "    cancel.onclick = () => {\n",
              "      resolve(null);\n",
              "    };\n",
              "  });\n",
              "\n",
              "  // Wait for the user to pick the files.\n",
              "  const files = yield {\n",
              "    promise: Promise.race([pickedPromise, cancelPromise]),\n",
              "    response: {\n",
              "      action: 'starting',\n",
              "    }\n",
              "  };\n",
              "\n",
              "  cancel.remove();\n",
              "\n",
              "  // Disable the input element since further picks are not allowed.\n",
              "  inputElement.disabled = true;\n",
              "\n",
              "  if (!files) {\n",
              "    return {\n",
              "      response: {\n",
              "        action: 'complete',\n",
              "      }\n",
              "    };\n",
              "  }\n",
              "\n",
              "  for (const file of files) {\n",
              "    const li = document.createElement('li');\n",
              "    li.append(span(file.name, {fontWeight: 'bold'}));\n",
              "    li.append(span(\n",
              "        `(${file.type || 'n/a'}) - ${file.size} bytes, ` +\n",
              "        `last modified: ${\n",
              "            file.lastModifiedDate ? file.lastModifiedDate.toLocaleDateString() :\n",
              "                                    'n/a'} - `));\n",
              "    const percent = span('0% done');\n",
              "    li.appendChild(percent);\n",
              "\n",
              "    outputElement.appendChild(li);\n",
              "\n",
              "    const fileDataPromise = new Promise((resolve) => {\n",
              "      const reader = new FileReader();\n",
              "      reader.onload = (e) => {\n",
              "        resolve(e.target.result);\n",
              "      };\n",
              "      reader.readAsArrayBuffer(file);\n",
              "    });\n",
              "    // Wait for the data to be ready.\n",
              "    let fileData = yield {\n",
              "      promise: fileDataPromise,\n",
              "      response: {\n",
              "        action: 'continue',\n",
              "      }\n",
              "    };\n",
              "\n",
              "    // Use a chunked sending to avoid message size limits. See b/62115660.\n",
              "    let position = 0;\n",
              "    do {\n",
              "      const length = Math.min(fileData.byteLength - position, MAX_PAYLOAD_SIZE);\n",
              "      const chunk = new Uint8Array(fileData, position, length);\n",
              "      position += length;\n",
              "\n",
              "      const base64 = btoa(String.fromCharCode.apply(null, chunk));\n",
              "      yield {\n",
              "        response: {\n",
              "          action: 'append',\n",
              "          file: file.name,\n",
              "          data: base64,\n",
              "        },\n",
              "      };\n",
              "\n",
              "      let percentDone = fileData.byteLength === 0 ?\n",
              "          100 :\n",
              "          Math.round((position / fileData.byteLength) * 100);\n",
              "      percent.textContent = `${percentDone}% done`;\n",
              "\n",
              "    } while (position < fileData.byteLength);\n",
              "  }\n",
              "\n",
              "  // All done.\n",
              "  yield {\n",
              "    response: {\n",
              "      action: 'complete',\n",
              "    }\n",
              "  };\n",
              "}\n",
              "\n",
              "scope.google = scope.google || {};\n",
              "scope.google.colab = scope.google.colab || {};\n",
              "scope.google.colab._files = {\n",
              "  _uploadFiles,\n",
              "  _uploadFilesContinue,\n",
              "};\n",
              "})(self);\n",
              "</script> "
            ]
          },
          "metadata": {}
        },
        {
          "output_type": "stream",
          "name": "stdout",
          "text": [
            "Saving data_loading.py to data_loading.py\n"
          ]
        }
      ]
    },
    {
      "cell_type": "code",
      "execution_count": null,
      "metadata": {
        "colab": {
          "base_uri": "https://localhost:8080/"
        },
        "id": "iK38XV98efj5",
        "outputId": "2ca045cd-7041-44d5-f224-68e9957a205b"
      },
      "outputs": [
        {
          "output_type": "stream",
          "name": "stdout",
          "text": [
            "downloading a file with egypt 1180 samples (Main + BIG-WGAN) and poland, china\n"
          ]
        },
        {
          "output_type": "stream",
          "name": "stderr",
          "text": [
            "Downloading...\n",
            "From (original): https://drive.google.com/uc?id=1PY29AhKzMo_msc0-8nc0oXnyWQHpbjWO\n",
            "From (redirected): https://drive.google.com/uc?id=1PY29AhKzMo_msc0-8nc0oXnyWQHpbjWO&confirm=t&uuid=b8edf0ae-22d0-45e9-a113-44c9e12fabe7\n",
            "To: /content/data_zipped\n",
            "100%|██████████| 47.6M/47.6M [00:00<00:00, 73.9MB/s]\n"
          ]
        },
        {
          "output_type": "stream",
          "name": "stdout",
          "text": [
            "Poland: images (256, 128, 128), labels (256,)\n",
            "China: images (635, 128, 128), labels (635,)\n",
            "Egypt: images (780, 128, 128), labels (780,)\n",
            "unbalanced, unshuffled,\n",
            "0 for malignant, 1 for benign,\n",
            "Poland label distribution:\n",
            "  Label 0: 102\n",
            "  Label 1: 154\n",
            "\n",
            "China label distribution:\n",
            "  Label 0: 435\n",
            "  Label 1: 200\n",
            "\n",
            "Egypt label distribution:\n",
            "  Label 0: 210\n",
            "  Label 1: 570\n",
            "\n",
            "Egypt mixed with GAN:\n",
            "  Label 0: 410\n",
            "  Label 1: 770\n",
            "\n",
            "Egypt mixed with GAN and FLIPPED:\n",
            "  Label 0: 820\n",
            "  Label 1: 1540\n",
            "returns poland images(TEST THIS), china images, egypt images, egypt mixed images 1180(TRAIN THIS), egypt mixed images 2360(TRAIN THIS)\n"
          ]
        }
      ],
      "source": [
        "from data_loading import get_data_BIG_WGAN # use the data loader function to get images for all types of setups\n",
        "(poland_images, poland_labels), (china_images, china_labels), (egypt_images, egypt_labels), (egypt_mixed_images_1180, egypt_mixed_labels_1180), (egypt_mixed_images_2360, egypt_mixed_labels_2360) = get_data_BIG_WGAN()"
      ]
    },
    {
      "cell_type": "code",
      "source": [
        "# now look at the content (data_unzipped), dont use the loader variable\n",
        "# data is here /content/data_unzipped/Datasets\n",
        "import numpy as np\n",
        "\n",
        "# generated images trained on the real egypt ,\n",
        "#generated_egypt_images = np.load('/content/data_unzipped/Datasets/GAN_images_rdy/gan_images_128x128_gray_shuffled.npy')\n",
        "#generated_egypt_labels = np.load('/content/data_unzipped/Datasets/GAN_images_rdy/gan_labels_shuffled.npy')\n",
        "# real images of egypt\n",
        "real_egypt_images = np.load('/content/data_unzipped/Datasets/Egypt Hospital - Breast Ultrasound/Egypt Hospital 128x128/Egypt Hospital_US_Breast_Images.npy')\n",
        "real_egypt_labels = np.load('/content/data_unzipped/Datasets/Egypt Hospital - Breast Ultrasound/Egypt Hospital 128x128/Egypt Hospital_US_Breast_Labels.npy')\n",
        "# get poland for tests\n",
        "poland_images = np.load('/content/data_unzipped/Datasets/Polish Hospital - Breast Ultrasound 128x128/Poland_Medical_Centers_US_Breast_Images.npy')\n",
        "poland_labels = np.load('/content/data_unzipped/Datasets/Polish Hospital - Breast Ultrasound 128x128/Poland_Medical_Centers_US_Breast_Labels.npy')"
      ],
      "metadata": {
        "id": "mPXz7XhOetbT"
      },
      "execution_count": null,
      "outputs": []
    },
    {
      "cell_type": "code",
      "source": [
        "# turn to floats\n",
        "#generated_egypt_images = generated_egypt_images.astype(np.float32)\n",
        "#generated_egypt_labels = generated_egypt_labels.astype(np.float32)\n",
        "poland_images = poland_images.astype(np.float32)\n",
        "poland_labels = poland_labels.astype(np.float32)\n",
        "real_egypt_images = real_egypt_images.astype(np.float32)\n",
        "real_egypt_labels = real_egypt_labels.astype(np.float32)"
      ],
      "metadata": {
        "id": "BgatIbr-f0jA"
      },
      "execution_count": null,
      "outputs": []
    },
    {
      "cell_type": "code",
      "source": [
        "#generated_egypt_images = (generated_egypt_images / 127.5) - 1\n",
        "real_egypt_images = (real_egypt_images / 127.5) - 1\n",
        "poland_images = (poland_images / 127.5) - 1"
      ],
      "metadata": {
        "id": "x5rgmsJsgQiC"
      },
      "execution_count": null,
      "outputs": []
    },
    {
      "cell_type": "code",
      "source": [
        "# this block is MEGA IMPORTANT, her is where you set everything about ratios\n",
        "#generated_egypt_images = generated_egypt_images[:400] # here is where you change 0,25,50,75,100\n",
        "#generated_egypt_labels = generated_egypt_labels[:400]\n",
        "real_egypt_images = real_egypt_images[:780] # these two are always a hunderd\n",
        "real_egypt_labels = real_egypt_labels[:780]\n",
        "poland_images = poland_images[:256] # these are always a hundred\n",
        "poland_labels = poland_labels[:256]"
      ],
      "metadata": {
        "id": "wEdsdgbugU6k"
      },
      "execution_count": null,
      "outputs": []
    },
    {
      "cell_type": "code",
      "source": [
        "import numpy as np\n",
        "import torch\n",
        "import torch.nn as nn\n",
        "from torch.utils.data import DataLoader, TensorDataset\n",
        "import torchvision.models as models"
      ],
      "metadata": {
        "id": "ae75iNfxkpq_"
      },
      "execution_count": null,
      "outputs": []
    },
    {
      "cell_type": "code",
      "source": [
        "egypt_mixed_images_1180 = (egypt_mixed_images_1180 / 127.5) - 1\n",
        "egypt_mixed_images_2360 = (egypt_mixed_images_2360 / 127.5) - 1"
      ],
      "metadata": {
        "id": "vpO1Kn991Rr1"
      },
      "execution_count": null,
      "outputs": []
    },
    {
      "cell_type": "code",
      "source": [
        "#lazy reassignment of inputs to floats\n",
        "X_train = egypt_mixed_images_2360.astype(np.float32)\n",
        "Y_train = egypt_mixed_labels_2360.astype(np.float32)\n",
        "X_val = poland_images.astype(np.float32)\n",
        "Y_val = poland_labels.astype(np.float32)"
      ],
      "metadata": {
        "id": "RKtVsHiDhDH2"
      },
      "execution_count": null,
      "outputs": []
    },
    {
      "cell_type": "code",
      "source": [
        "X_train.shape, X_val.shape, Y_train.shape, Y_val.shape"
      ],
      "metadata": {
        "colab": {
          "base_uri": "https://localhost:8080/"
        },
        "id": "rRLH2AlkhTui",
        "outputId": "d3e95bb1-2ba3-4b09-c3e1-7100d8eb7e11"
      },
      "execution_count": null,
      "outputs": [
        {
          "output_type": "execute_result",
          "data": {
            "text/plain": [
              "((2360, 128, 128), (256, 128, 128), (2360,), (256,))"
            ]
          },
          "metadata": {},
          "execution_count": 44
        }
      ]
    },
    {
      "cell_type": "code",
      "source": [
        "# tensorize for the network\n",
        "X_train = torch.tensor(X_train, dtype=torch.float32)\n",
        "X_val = torch.tensor(X_val, dtype=torch.float32)\n",
        "Y_train = torch.tensor(Y_train, dtype=torch.float32)\n",
        "Y_val = torch.tensor(Y_val, dtype=torch.float32)\n",
        "\n",
        "print(X_train.shape, X_val.shape, Y_train.shape, Y_val.shape)\n",
        "# get the batch dim out ofthere\n",
        "X_train = X_train.unsqueeze(1)\n",
        "X_val = X_val.unsqueeze(1)\n",
        "\n",
        "# The Resnet really wanted a long type, idk why\n",
        "Y_train = Y_train.long()\n",
        "Y_val = Y_val.long()\n",
        "\n",
        "train_ds = TensorDataset(X_train, Y_train)\n",
        "test_ds = TensorDataset(X_val, Y_val)\n",
        "\n",
        "train_loader = DataLoader(train_ds, batch_size=32, shuffle=True)\n",
        "test_loader = DataLoader(test_ds, batch_size=32)\n"
      ],
      "metadata": {
        "id": "SHdujj3slNiT",
        "colab": {
          "base_uri": "https://localhost:8080/"
        },
        "outputId": "7a91620e-5137-4e96-b4da-2182d0d1f8d7"
      },
      "execution_count": null,
      "outputs": [
        {
          "output_type": "stream",
          "name": "stdout",
          "text": [
            "torch.Size([2360, 128, 128]) torch.Size([256, 128, 128]) torch.Size([2360]) torch.Size([256])\n"
          ]
        }
      ]
    },
    {
      "cell_type": "code",
      "source": [
        "print(X_train.shape, X_val.shape, Y_train.shape, Y_val.shape)"
      ],
      "metadata": {
        "colab": {
          "base_uri": "https://localhost:8080/"
        },
        "id": "g2s8VQgHkEBm",
        "outputId": "487ee973-db28-44cf-ceb5-5191ff34a3e0"
      },
      "execution_count": null,
      "outputs": [
        {
          "output_type": "stream",
          "name": "stdout",
          "text": [
            "torch.Size([2360, 1, 128, 128]) torch.Size([256, 1, 128, 128]) torch.Size([2360]) torch.Size([256])\n"
          ]
        }
      ]
    },
    {
      "cell_type": "code",
      "source": [
        "import torchvision.models as models\n",
        "\n",
        "device = torch.device(\"cuda\" if torch.cuda.is_available() else \"cpu\")\n",
        "\n",
        "#get basic pre-trained resnet\n",
        "model = models.resnet50(pretrained=True)\n",
        "\n",
        "# greyscale, so one channel in\n",
        "model.conv1 = nn.Conv2d(1, 64, kernel_size=7, stride=2, padding=3, bias=False)\n",
        "\n",
        "# last layer, fully-connected into binary classification\n",
        "model.fc = nn.Linear(model.fc.in_features, 1)\n",
        "\n",
        "model = model.to(device)\n"
      ],
      "metadata": {
        "id": "GQjUtd4wm_UH",
        "colab": {
          "base_uri": "https://localhost:8080/"
        },
        "outputId": "5a2fe1d8-940d-4b28-b0a0-305b9ba5bcec"
      },
      "execution_count": null,
      "outputs": [
        {
          "output_type": "stream",
          "name": "stderr",
          "text": [
            "/usr/local/lib/python3.11/dist-packages/torchvision/models/_utils.py:208: UserWarning: The parameter 'pretrained' is deprecated since 0.13 and may be removed in the future, please use 'weights' instead.\n",
            "  warnings.warn(\n",
            "/usr/local/lib/python3.11/dist-packages/torchvision/models/_utils.py:223: UserWarning: Arguments other than a weight enum or `None` for 'weights' are deprecated since 0.13 and may be removed in the future. The current behavior is equivalent to passing `weights=ResNet50_Weights.IMAGENET1K_V1`. You can also use `weights=ResNet50_Weights.DEFAULT` to get the most up-to-date weights.\n",
            "  warnings.warn(msg)\n"
          ]
        }
      ]
    },
    {
      "cell_type": "code",
      "source": [
        "import torch.nn as nn\n",
        "import torch.optim as optim\n",
        "# BCE and adam, super standard\n",
        "criterion = nn.CrossEntropyLoss()\n",
        "optimizer = optim.Adam(model.parameters(), lr=1e-4, weight_decay=1e-5)\n"
      ],
      "metadata": {
        "id": "aoWyij0MnB6f"
      },
      "execution_count": null,
      "outputs": []
    },
    {
      "cell_type": "code",
      "source": [
        "# simple traing function\n",
        "def train(model, train_loader, optimizer, criterion, device, epochs=2):\n",
        "    model.train()\n",
        "    for epoch in range(epochs):\n",
        "        total_loss = 0\n",
        "        for x, y in train_loader:\n",
        "            x, y = x.to(device), y.to(device)\n",
        "            optimizer.zero_grad()\n",
        "            out = model(x)\n",
        "            loss = criterion(out, y)\n",
        "            loss.backward()\n",
        "            optimizer.step()\n",
        "            total_loss += loss.item()\n",
        "\n",
        "        print(f\"Epoch {epoch+1}/{epochs}, Loss: {total_loss/len(train_loader):.4f}\")\n"
      ],
      "metadata": {
        "id": "YbYQvyPTnGS4"
      },
      "execution_count": null,
      "outputs": []
    },
    {
      "cell_type": "code",
      "source": [
        "# test, take average\n",
        "def test(model, test_loader, device):\n",
        "    model.eval()\n",
        "    correct = 0\n",
        "    total = 0\n",
        "    with torch.no_grad():\n",
        "        for x, y in test_loader:\n",
        "            x, y = x.to(device), y.to(device)\n",
        "            out = model(x)\n",
        "            _, pred = out.max(1)\n",
        "            correct += (pred == y).sum().item()\n",
        "            total += y.size(0)\n",
        "    acc = 100 * correct / total\n",
        "    return acc\n"
      ],
      "metadata": {
        "id": "ki4wF4VunJZO"
      },
      "execution_count": null,
      "outputs": []
    },
    {
      "cell_type": "code",
      "source": [
        "# call train\n",
        "train(model, train_loader, optimizer, criterion, device, epochs=20)\n",
        "\n",
        "# call test\n",
        "test(model, test_loader, device)\n"
      ],
      "metadata": {
        "colab": {
          "base_uri": "https://localhost:8080/"
        },
        "id": "bZqF8pkknODS",
        "outputId": "632b7dc6-61e2-4789-d996-0bb0c38dcbfd"
      },
      "execution_count": null,
      "outputs": [
        {
          "output_type": "stream",
          "name": "stdout",
          "text": [
            "Epoch 1/20, Loss: 0.6867\n",
            "Epoch 2/20, Loss: 0.3878\n",
            "Epoch 3/20, Loss: 0.3306\n",
            "Epoch 4/20, Loss: 0.2964\n",
            "Epoch 5/20, Loss: 0.2963\n",
            "Epoch 6/20, Loss: 0.2754\n",
            "Epoch 7/20, Loss: 0.2808\n",
            "Epoch 8/20, Loss: 0.2932\n",
            "Epoch 9/20, Loss: 0.2729\n",
            "Epoch 10/20, Loss: 0.2717\n",
            "Epoch 11/20, Loss: 0.2725\n",
            "Epoch 12/20, Loss: 0.2611\n",
            "Epoch 13/20, Loss: 0.2520\n",
            "Epoch 14/20, Loss: 0.2532\n",
            "Epoch 15/20, Loss: 0.2492\n",
            "Epoch 16/20, Loss: 0.2464\n",
            "Epoch 17/20, Loss: 0.2538\n",
            "Epoch 18/20, Loss: 0.2495\n",
            "Epoch 19/20, Loss: 0.2476\n",
            "Epoch 20/20, Loss: 0.2554\n"
          ]
        },
        {
          "output_type": "execute_result",
          "data": {
            "text/plain": [
              "65.625"
            ]
          },
          "metadata": {},
          "execution_count": 51
        }
      ]
    },
    {
      "cell_type": "markdown",
      "source": [
        "Big cross domain tests:  \n",
        "full egypt on poland 61.3%  \n",
        "egypt 1180 on poland 60.15%  \n",
        "egypt 2360 on poland 65.62%  \n",
        "\n",
        "\n",
        "Train all data on the same domain (wild fluctation 73-87%.., we'll use Drew's results of average accuracy from the google sheets)    \n",
        "Train 100 real egypt 100 fake egypt Test Poland 66%  \n",
        "Train 100 real egypt 75 fake egypt Test Poland 64%   \n",
        "Train 100 real egypt 50 fake egypt Test Poland 63%  \n",
        "Train 100 real egypt 25 fake egypt Test Poland 66%   \n",
        "Train 100 real egypt 0 fake egypt Test Poland  65%  \n",
        "Train all real egypt test on all poland  62.5%  \n",
        "Train all real egypt with all fake egypt on all poland 60.55%  \n",
        "\n"
      ],
      "metadata": {
        "id": "-sLvjP48n9T2"
      }
    }
  ]
}